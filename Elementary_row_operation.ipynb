{
 "cells": [
  {
   "cell_type": "markdown",
   "metadata": {},
   "source": [
    "# Why elementary row operation of Matrix doesn't chane rank of  that Matrix ?? (Mathematics)"
   ]
  },
  {
   "cell_type": "markdown",
   "metadata": {},
   "source": [
    "*\"Elementary row operation\"* consists of three following activity.  \n",
    "\n",
    "- Row switching  \n",
    "A row within the matrix can be switched wtih another row.  \n",
    "$R_{i} \\leftrightarrow R_{j}$     \n",
    "  \n",
    "- Row multiplication  \n",
    "Each element in a row can be multiplied by a non-zero constant.  \n",
    "$kR_{i} \\rightarrow R_{i}$ where $k \\neq  0$\n",
    "\n",
    "- Row addition  \n",
    "Row can be replaced by the sum of that row and a multiple another row.  \n",
    "$R_{i} + R_{j} \\rightarrow R_{i}$ where $i \\neq j$  \n",
    "\n",
    "Source :<https://en.wikipedia.org/wiki/Rank_(linear_algebra)>"
   ]
  },
  {
   "cell_type": "markdown",
   "metadata": {},
   "source": [
    "Now I'd like to get into why *\"Elementary row operation of Matrix\"* doesn't change *\"rank\"* of that matrix.  \n",
    "First of all, I have to make it clear what the *\"rank\"* of matirx mean ??  \n",
    "One of the definition of *\"rank\"* of matrix $A$ is :  \n",
    "<div style=\"text-align : center;\"> Dimension of the image of the linear transformation that is given by multiplication by A.</div>  \n",
    "Therefore, here I'd like to talk about why *\"Elementary row operation \"* doesn't change the dimention of image that is given by multiplication by A.  \n",
    "In a word or two, *\"Elementary row operation\"* is correspond to multiplication by *\"regular matrix\"* :) Take a look at 3 activeties."
   ]
  },
  {
   "cell_type": "markdown",
   "metadata": {},
   "source": [
    "Let $A$ be matrix as bellow.\n",
    "\\begin{pmatrix}\n",
    "a_{11} & a_{12} & a_{13} \\\\\n",
    "a_{21} & a_{22} & a_{23} \\\\\n",
    "a_{31} & a_{32} & a_{33}\n",
    "\\end{pmatrix}\n",
    "1. Row switching  \n",
    "    It's equivalent to multiplication by identity matrix which interchange two rows as bellow.  \n",
    "    \\begin{equation}\n",
    "    \\begin{pmatrix}\n",
    "    1 & 0 & 0 \\\\\n",
    "    0 & 0 & 1 \\\\\n",
    "    0 & 1 & 0 \n",
    "    \\end{pmatrix}\n",
    "    \\begin{pmatrix}\n",
    "    a_{11} & a_{12} & a_{13} \\\\\n",
    "    a_{21} & a_{22} & a_{23} \\\\\n",
    "    a_{31} & a_{32} & a_{33}\n",
    "    \\end{pmatrix}\n",
    "    =\n",
    "    \\begin{pmatrix}\n",
    "    a_{11} & a_{12} & a_{13} \\\\\n",
    "    a_{31} & a_{32} & a_{33} \\\\\n",
    "    a_{21} & a_{22} & a_{23} \n",
    "    \\end{pmatrix}\n",
    "    \\end{equation}  \n",
    "\n",
    "    It goes without saying that *determinant* of regular matrix is 1.    　 \n",
    "   \n",
    "2. Row multiplication  \n",
    "    It's equivalent to multiplication by identity matrix whose $ii$ element is multiplicated by constant $c$.  \n",
    "    \\begin{equation}\n",
    "    \\begin{pmatrix}\n",
    "    1 & 0 & 0 \\\\\n",
    "    0 & 3 & 0 \\\\\n",
    "    0 & 0 & 1 \n",
    "    \\end{pmatrix}\n",
    "    \\begin{pmatrix}\n",
    "    a_{11} & a_{12} & a_{13} \\\\\n",
    "    a_{21} & a_{22} & a_{23} \\\\\n",
    "    a_{31} & a_{32} & a_{33}\n",
    "    \\end{pmatrix}\n",
    "    =\n",
    "    \\begin{pmatrix}\n",
    "    a_{11} & a_{12} & a_{13} \\\\\n",
    "    3a_{21} & 3a_{22} & 3a_{23} \\\\\n",
    "    a_{31} & a_{32} & a_{33}\n",
    "    \\end{pmatrix}\n",
    "    \\end{equation}  \n",
    "    It goes without saying that *determinant* of regular matrix is -3.\n",
    "3. Row addition  \n",
    "    It's euivalent to multiplication by identity matrix whose $ij$ element is constant $c$.  \n",
    "    \\begin{equation}\n",
    "    \\begin{pmatrix}\n",
    "    1 & 0 & 0 \\\\\n",
    "    0 & 1 & 3 \\\\\n",
    "    0 & 0 & 1 \n",
    "    \\end{pmatrix}\n",
    "    \\begin{pmatrix}\n",
    "    a_{11} & a_{12} & a_{13} \\\\\n",
    "    a_{21} & a_{22} & a_{23} \\\\\n",
    "    a_{31} & a_{32} & a_{33}\n",
    "    \\end{pmatrix}\n",
    "    =\n",
    "    \\begin{pmatrix}\n",
    "    a_{11} & a_{12} & a_{13} \\\\\n",
    "    a_{21} + 3a_{31} & a_{22} + 3a_{32} & a_{23} + 3a_{33} \\\\\n",
    "    a_{31} & a_{32} & a_{33}\n",
    "    \\end{pmatrix}\n",
    "    \\end{equation} \n",
    "    It goes without saying that *determinant* of regular matrix is -1."
   ]
  },
  {
   "cell_type": "markdown",
   "metadata": {},
   "source": [
    "When think about mapping by *regular matrix*, since *regular matrix* has *inverse matrix*, mapping would be *bijection*. Therefore dimention of image which given by regular matrix is same as kernel image.  \n",
    "Consequently, given that a regular matrix is $P$, dimention of image given by $A$ is correspond to dimention of image given by $PA$ as following image."
   ]
  },
  {
   "cell_type": "markdown",
   "metadata": {},
   "source": [
    "<img src=\"Multiplication_by_regular matrix.png\" width=400>"
   ]
  }
 ],
 "metadata": {
  "kernelspec": {
   "display_name": "Python 3",
   "language": "python",
   "name": "python3"
  },
  "language_info": {
   "codemirror_mode": {
    "name": "ipython",
    "version": 3
   },
   "file_extension": ".py",
   "mimetype": "text/x-python",
   "name": "python",
   "nbconvert_exporter": "python",
   "pygments_lexer": "ipython3",
   "version": "3.6.1"
  }
 },
 "nbformat": 4,
 "nbformat_minor": 2
}
